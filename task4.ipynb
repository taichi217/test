{
 "cells": [
  {
   "cell_type": "code",
   "execution_count": 1,
   "metadata": {},
   "outputs": [
    {
     "name": "stdout",
     "output_type": "stream",
     "text": [
      "3 2\n",
      "1 1 1.500000\n"
     ]
    }
   ],
   "source": [
    "# 4_A\n",
    "var=input()\n",
    "var=var.split()\n",
    "a=int(var[0])\n",
    "b=int(var[1])\n",
    "d=int(a/b)\n",
    "r=int(a%b)\n",
    "f=float(a/b)\n",
    "print(str(d)+\" \"+str(r)+\" \"+str('{:.6f}'.format(f)))"
   ]
  },
  {
   "cell_type": "code",
   "execution_count": 2,
   "metadata": {},
   "outputs": [
    {
     "name": "stdout",
     "output_type": "stream",
     "text": [
      "2\n",
      "12.566370614356 12.566370614356\n"
     ]
    }
   ],
   "source": [
    "# 4_B\n",
    "pi=3.141592653589\n",
    "r=float(input())\n",
    "print((r**2*pi),(r*2*pi))"
   ]
  },
  {
   "cell_type": "code",
   "execution_count": 3,
   "metadata": {},
   "outputs": [
    {
     "name": "stdout",
     "output_type": "stream",
     "text": [
      "1 + 2\n",
      "3\n",
      "56 - 18\n",
      "38\n",
      "13 * 2\n",
      "26\n",
      "100 / 10\n",
      "10\n",
      "27 + 81\n",
      "108\n",
      "0 ? 0\n"
     ]
    }
   ],
   "source": [
    "# 4_C\n",
    "while(True):\n",
    "    var=input()\n",
    "    var=var.split()\n",
    "    a=int(var[0])\n",
    "    b=int(var[2])\n",
    "    op=str(var[1])\n",
    "    if(op==\"?\"):\n",
    "        break\n",
    "    elif(op==\"+\"):\n",
    "        print(a+b)\n",
    "    elif(op==\"-\"):\n",
    "        print(a-b)\n",
    "    elif(op==\"*\"):\n",
    "        print(a*b)\n",
    "    elif(op==\"/\"):\n",
    "        print(a//b)"
   ]
  },
  {
   "cell_type": "code",
   "execution_count": 4,
   "metadata": {},
   "outputs": [
    {
     "name": "stdout",
     "output_type": "stream",
     "text": [
      "5\n",
      "10 1 5 4 17\n",
      "1 17 37\n"
     ]
    }
   ],
   "source": [
    "# 4_D\n",
    "n=int(input())\n",
    "a=input()\n",
    "a=a.split()\n",
    "a=list(map(int,a))\n",
    "print(min(a),max(a),sum(a))"
   ]
  },
  {
   "cell_type": "code",
   "execution_count": null,
   "metadata": {},
   "outputs": [],
   "source": []
  }
 ],
 "metadata": {
  "kernelspec": {
   "display_name": "Python 3",
   "language": "python",
   "name": "python3"
  },
  "language_info": {
   "codemirror_mode": {
    "name": "ipython",
    "version": 3
   },
   "file_extension": ".py",
   "mimetype": "text/x-python",
   "name": "python",
   "nbconvert_exporter": "python",
   "pygments_lexer": "ipython3",
   "version": "3.7.6"
  }
 },
 "nbformat": 4,
 "nbformat_minor": 4
}
