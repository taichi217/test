{
 "cells": [
  {
   "cell_type": "code",
   "execution_count": 1,
   "metadata": {},
   "outputs": [
    {
     "name": "stdout",
     "output_type": "stream",
     "text": [
      "5\n",
      "1 2 3 4 5\n",
      "5 4 3 2 1\n"
     ]
    }
   ],
   "source": [
    "# 6_A\n",
    "n=int(input())\n",
    "var=input()\n",
    "var=var.split()\n",
    "i=n-1\n",
    "while(True):\n",
    "    if(i==0):\n",
    "        print(var[0])\n",
    "        break\n",
    "    else:\n",
    "        print(var[i]+\" \",end='')\n",
    "        i-=1"
   ]
  },
  {
   "cell_type": "code",
   "execution_count": 3,
   "metadata": {},
   "outputs": [
    {
     "name": "stdout",
     "output_type": "stream",
     "text": [
      "47\n",
      "S 10\n",
      "S 11\n",
      "S 12\n",
      "S 13\n",
      "H 1\n",
      "H 2\n",
      "S 6\n",
      "S 7\n",
      "S 8\n",
      "S 9\n",
      "H 6\n",
      "H 8\n",
      "H 9\n",
      "H 10\n",
      "H 11\n",
      "H 4\n",
      "H 5\n",
      "S 2\n",
      "S 3\n",
      "S 4\n",
      "S 5\n",
      "H 12\n",
      "H 13\n",
      "C 1\n",
      "C 2\n",
      "D 1\n",
      "D 2\n",
      "D 3\n",
      "D 4\n",
      "D 5\n",
      "D 6\n",
      "D 7\n",
      "C 3\n",
      "C 4\n",
      "C 5\n",
      "C 6\n",
      "C 7\n",
      "C 8\n",
      "C 9\n",
      "C 10\n",
      "C 11\n",
      "C 13\n",
      "D 9\n",
      "D 10\n",
      "D 11\n",
      "D 12\n",
      "D 13\n",
      "S 1\n",
      "H 3\n",
      "H 7\n",
      "C 12\n",
      "D 8\n"
     ]
    }
   ],
   "source": [
    "# 6_B\n",
    "n=int(input())\n",
    "tbl=[[0 for i in range(2)]for j in range(n)]\n",
    "for i in range(n):\n",
    "    var=input()\n",
    "    var=var.split()\n",
    "    tbl[i][0]=var[0]\n",
    "    tbl[i][1]=int(var[1])\n",
    "for i in range(1,14):\n",
    "    if((['S',i] in tbl)==False):\n",
    "        print(\"S \"+str(i))\n",
    "for i in range(1,14):\n",
    "    if((['H',i] in tbl)==False):\n",
    "        print(\"H \"+str(i))\n",
    "for i in range(1,14):\n",
    "    if((['C',i] in tbl)==False):\n",
    "        print(\"C \"+str(i))\n",
    "for i in range(1,14):\n",
    "    if((['D',i] in tbl)==False):\n",
    "        print(\"D \"+str(i))\n",
    "\n"
   ]
  },
  {
   "cell_type": "code",
   "execution_count": 4,
   "metadata": {},
   "outputs": [
    {
     "name": "stdout",
     "output_type": "stream",
     "text": [
      "3\n",
      "1 1 3 8\n",
      "3 2 2 7\n",
      "4 3 8 1\n",
      " 0 0 8 0 0 0 0 0 0 0\n",
      " 0 0 0 0 0 0 0 0 0 0\n",
      " 0 0 0 0 0 0 0 0 0 0\n",
      "####################\n",
      " 0 0 0 0 0 0 0 0 0 0\n",
      " 0 0 0 0 0 0 0 0 0 0\n",
      " 0 0 0 0 0 0 0 0 0 0\n",
      "####################\n",
      " 0 0 0 0 0 0 0 0 0 0\n",
      " 0 7 0 0 0 0 0 0 0 0\n",
      " 0 0 0 0 0 0 0 0 0 0\n",
      "####################\n",
      " 0 0 0 0 0 0 0 0 0 0\n",
      " 0 0 0 0 0 0 0 0 0 0\n",
      " 0 0 0 0 0 0 0 1 0 0\n"
     ]
    }
   ],
   "source": [
    "# 6_C\n",
    "\n",
    "bldg=[[[0 for i in range(10)]for j in range(3)]for k in range(4)]\n",
    "n=int(input())\n",
    "for i in range(n):\n",
    "    var=input()\n",
    "    var=var.split()\n",
    "    b=int(var[0])-1\n",
    "    f=int(var[1])-1\n",
    "    r=int(var[2])-1\n",
    "    v=int(var[3])\n",
    "    bldg[b][f][r]+=v\n",
    "count=0\n",
    "for building in bldg:\n",
    "    for floor in building:\n",
    "        for room in floor:\n",
    "            print(\" \"+str(room),end='')\n",
    "        print()\n",
    "    if(count==3):\n",
    "        break\n",
    "    print(\"####################\")\n",
    "    count+=1"
   ]
  },
  {
   "cell_type": "code",
   "execution_count": 5,
   "metadata": {},
   "outputs": [
    {
     "name": "stdout",
     "output_type": "stream",
     "text": [
      "3 4\n",
      "1 2 0 1\n",
      "0 3 0 1\n",
      "4 1 1 0\n",
      "1\n",
      "2\n",
      "3\n",
      "0\n",
      "5\n",
      "6\n",
      "9\n"
     ]
    }
   ],
   "source": [
    "# 6_D\n",
    "var=input()\n",
    "var=var.split()\n",
    "n=int(var[0])\n",
    "m=int(var[1])\n",
    "A=[[0 for i in range(m)]for j in range(n)]\n",
    "b=[0 for i in range(m)]\n",
    "c=[0 for i in range(n)]\n",
    "for i in range(n):\n",
    "    var=input()\n",
    "    var=var.split()\n",
    "    for j in range(m):\n",
    "        A[i][j]=int(var[j])\n",
    "for i in range(m):\n",
    "    var=input()\n",
    "    var=var.split()\n",
    "    b[i]=int(var[0])\n",
    "line=0\n",
    "\n",
    "for line_A in A:\n",
    "    line_b=0\n",
    "    for row in line_A:\n",
    "        c[line]+=row*b[line_b]\n",
    "        line_b+=1\n",
    "    print(c[line])\n",
    "    line+=1"
   ]
  },
  {
   "cell_type": "code",
   "execution_count": null,
   "metadata": {},
   "outputs": [],
   "source": []
  }
 ],
 "metadata": {
  "kernelspec": {
   "display_name": "Python 3",
   "language": "python",
   "name": "python3"
  },
  "language_info": {
   "codemirror_mode": {
    "name": "ipython",
    "version": 3
   },
   "file_extension": ".py",
   "mimetype": "text/x-python",
   "name": "python",
   "nbconvert_exporter": "python",
   "pygments_lexer": "ipython3",
   "version": "3.7.6"
  }
 },
 "nbformat": 4,
 "nbformat_minor": 4
}
