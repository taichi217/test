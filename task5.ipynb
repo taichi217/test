{
 "cells": [
  {
   "cell_type": "code",
   "execution_count": 5,
   "metadata": {},
   "outputs": [
    {
     "name": "stdout",
     "output_type": "stream",
     "text": [
      "1 1\n",
      "#\n",
      "\n",
      "0 0\n"
     ]
    }
   ],
   "source": [
    "# 5_A\n",
    "while(True):\n",
    "    h,w = map(int,input().split())\n",
    "    if h==0 and w==0:\n",
    "        break\n",
    "    for i in range(h):\n",
    "        print(\"#\"*w)\n",
    "    print()"
   ]
  },
  {
   "cell_type": "code",
   "execution_count": 12,
   "metadata": {},
   "outputs": [
    {
     "name": "stdout",
     "output_type": "stream",
     "text": [
      "3 4\n",
      "####\n",
      "#..#\n",
      "####\n",
      "\n",
      "5 6\n",
      "######\n",
      "#....#\n",
      "#....#\n",
      "#....#\n",
      "######\n",
      "\n",
      "3 3\n",
      "###\n",
      "#.#\n",
      "###\n",
      "\n",
      "0 0\n"
     ]
    }
   ],
   "source": [
    "# 5_B\n",
    "while(True):\n",
    "    h,w=map(int, input().split())\n",
    "    if h == 0 and w == 0:\n",
    "        break\n",
    "    i=0\n",
    "    while(i<h):\n",
    "        if i == 0:\n",
    "            print(\"#\"*w)\n",
    "        elif i == (h-1):\n",
    "            print(\"#\"*w)\n",
    "        else:\n",
    "            print(\"#\", end='')\n",
    "            print(\".\"*(w-2), end='')\n",
    "            print(\"#\")\n",
    "        i+=1\n",
    "       \n",
    "    print()"
   ]
  },
  {
   "cell_type": "code",
   "execution_count": 19,
   "metadata": {},
   "outputs": [
    {
     "name": "stdout",
     "output_type": "stream",
     "text": [
      "1 1\n",
      "#\n",
      "\n",
      "0 0\n"
     ]
    }
   ],
   "source": [
    "# 5_C\n",
    "while(True):\n",
    "    H,W=map(int,input().split())\n",
    "    if H ==0 and W ==0:\n",
    "        break\n",
    "    h=0\n",
    "    while(h<H):\n",
    "        if h%2 == 0:\n",
    "            for i in range(W):\n",
    "                if i%2 ==0:\n",
    "                    print(\"#\",end='')\n",
    "                else:\n",
    "                    print(\".\", end='')\n",
    "            print()\n",
    "        else:\n",
    "            for i in range(W):\n",
    "                if i%2 ==0:\n",
    "                    print(\".\", end ='')\n",
    "                else:\n",
    "                    print(\"#\", end='')\n",
    "            print()\n",
    "        h+=1\n",
    "    print()\n",
    "    "
   ]
  },
  {
   "cell_type": "code",
   "execution_count": 21,
   "metadata": {},
   "outputs": [
    {
     "name": "stdout",
     "output_type": "stream",
     "text": [
      "30\n",
      " 3 6 9 12 13 15 18 21 23 24 27 30\n"
     ]
    }
   ],
   "source": [
    "# 5_D\n",
    "n=int(input())\n",
    "i=1\n",
    "while(i<=n):\n",
    "    x=i\n",
    "    if(int(x%3)==0):\n",
    "        print(\" \"+str(i),end='')\n",
    "    elif(int(x%10)==3):\n",
    "        print(\" \"+str(i),end='')\n",
    "    else:\n",
    "        while(True):\n",
    "            if(int(x%10)==3):\n",
    "                print(\" \"+str(i),end='')\n",
    "                break\n",
    "            else:\n",
    "                x=int(x/10)\n",
    "                if(x==0):\n",
    "                    break\n",
    "    i+=1\n",
    "print()"
   ]
  },
  {
   "cell_type": "code",
   "execution_count": null,
   "metadata": {},
   "outputs": [],
   "source": []
  }
 ],
 "metadata": {
  "kernelspec": {
   "display_name": "Python 3",
   "language": "python",
   "name": "python3"
  },
  "language_info": {
   "codemirror_mode": {
    "name": "ipython",
    "version": 3
   },
   "file_extension": ".py",
   "mimetype": "text/x-python",
   "name": "python",
   "nbconvert_exporter": "python",
   "pygments_lexer": "ipython3",
   "version": "3.7.6"
  }
 },
 "nbformat": 4,
 "nbformat_minor": 4
}
