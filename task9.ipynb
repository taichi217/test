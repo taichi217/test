{
 "cells": [
  {
   "cell_type": "code",
   "execution_count": 7,
   "metadata": {},
   "outputs": [
    {
     "name": "stdout",
     "output_type": "stream",
     "text": [
      "aizu\n",
      "Aizu x aizu AIZU aIzu aiZu a\n",
      "a i z u aiz a izu\n",
      "END_OF_TEXT\n",
      "5\n"
     ]
    }
   ],
   "source": [
    "#9_A\n",
    "my_list=[]\n",
    "count=0\n",
    "w=input()\n",
    "w=w.lower()\n",
    "while(True):\n",
    "    var=input()\n",
    "    if(var==\"END_OF_TEXT\"):\n",
    "        break\n",
    "    else:\n",
    "        var=var.split()\n",
    "        my_list+=var\n",
    "for t in my_list:\n",
    "    t=t.lower()\n",
    "    if(w == t):\n",
    "        count+=1\n",
    "    else:\n",
    "        None\n",
    "print(count)"
   ]
  },
  {
   "cell_type": "code",
   "execution_count": 21,
   "metadata": {},
   "outputs": [
    {
     "name": "stdout",
     "output_type": "stream",
     "text": [
      "vwxyz\n",
      "2\n",
      "3\n",
      "4\n",
      "xyzvw\n",
      "-\n"
     ]
    }
   ],
   "source": [
    "#9_B\n",
    "def shuffle(letter,num):\n",
    "    for i in range(num):\n",
    "        memory=''\n",
    "        h=int(input())\n",
    "        bellow=letter[0:h]\n",
    "        above=letter[h:len(letter)]\n",
    "        memory=above+bellow\n",
    "        letter=memory\n",
    "    return letter\n",
    "\n",
    "##main##\n",
    "while(True):\n",
    "    letter=input()\n",
    "    if(letter in \"-\"):\n",
    "        break\n",
    "    else:\n",
    "        num=int(input())\n",
    "        letter=shuffle(letter,num)\n",
    "        print(letter)"
   ]
  },
  {
   "cell_type": "code",
   "execution_count": 42,
   "metadata": {},
   "outputs": [
    {
     "name": "stdout",
     "output_type": "stream",
     "text": [
      "4\n",
      "a x\n",
      "a x\n",
      "x a\n",
      "a a\n",
      "0\n",
      "0 1\n",
      "1\n",
      "0 2\n",
      "2\n",
      "3 3\n",
      "3\n",
      "4 4\n"
     ]
    }
   ],
   "source": [
    "#9_C\n",
    "class player:\n",
    "    def __init__(self):\n",
    "        self.my_cards=[]\n",
    "        self.point=0\n",
    "    def draw(self,letter):\n",
    "        self.my_cards.append(letter)\n",
    "\n",
    "    def open(self,num):\n",
    "        return self.my_cards[num]\n",
    "    \n",
    "    def buttle(self,letter,num):\n",
    "        if(self.my_cards[num]>letter):\n",
    "            self.point+=3\n",
    "        elif(self.my_cards[num]==letter):\n",
    "            self.point+=1\n",
    "            \n",
    "    def show(self):\n",
    "        return self.point\n",
    "    def check(self):\n",
    "        return self.my_cards\n",
    "\n",
    "##main##\n",
    "n=int(input())\n",
    "taro=player()\n",
    "hanako=player()\n",
    "for i in range(n):\n",
    "    val=input().split()\n",
    "    taro.draw(val[0])\n",
    "    hanako.draw(val[1])\n",
    "for i in range(n):\n",
    "    taro.buttle(hanako.open(i),i)\n",
    "    hanako.buttle(taro.open(i),i)\n",
    "    \n",
    "print(taro.show(),hanako.show())\n",
    "    "
   ]
  },
  {
   "cell_type": "code",
   "execution_count": 71,
   "metadata": {},
   "outputs": [
    {
     "name": "stdout",
     "output_type": "stream",
     "text": [
      "abcde\n",
      "3\n",
      "replace 1 3 xyz\n",
      "reverse 0 2\n",
      "print 1 4\n",
      "xaze\n"
     ]
    }
   ],
   "source": [
    "class String:\n",
    "    def __init__(self,letter):\n",
    "        self.letter=letter\n",
    "        self.memory=''\n",
    "    def println(self,start,end):\n",
    "        print(self.letter[start:(end+1)])\n",
    "    def replace(self,start,end,alt):\n",
    "        self.memory=''\n",
    "#         obj=self.letter[start:(end+1)]\n",
    "        if(start!=0 and end!=(len(self.letter)-1)):\n",
    "            self.memory=self.letter[0:start]+alt+self.letter[(end+1):]\n",
    "        elif(start==0):\n",
    "            self.memory=alt+self.letter[(end+1):]\n",
    "        elif(end==(len(self.letter)-1)):\n",
    "            self.memory=self.letter[:start]+alt\n",
    "        self.letter=self.memory\n",
    "#         self.letter=self.letter.replace(obj,alt)\n",
    "    def reverse(self,start,end):\n",
    "        self.memory=''\n",
    "        if(start==0):\n",
    "            obj=self.letter[end::-1]\n",
    "            self.memory=obj+self.letter[(end+1):]\n",
    "        else:\n",
    "            obj=self.letter[end:(start-1):-1]\n",
    "            self.memory=self.letter[0:start]+obj+self.letter[(end+1):]\n",
    "        self.letter=self.memory\n",
    "    def check(self):\n",
    "        return self.letter\n",
    "    \n",
    "##main##\n",
    "val=input()\n",
    "q=int(input())\n",
    "my_str=String(val)\n",
    "for i in range(q):\n",
    "    command=input().split()\n",
    "    if(command[0]==\"print\"):\n",
    "        my_str.println(int(command[1]),int(command[2]))\n",
    "    elif(command[0]==\"replace\"):\n",
    "        my_str.replace(int(command[1]),int(command[2]),command[3])\n",
    "    elif(command[0]==\"reverse\"):\n",
    "        my_str.reverse(int(command[1]),int(command[2]))\n"
   ]
  },
  {
   "cell_type": "code",
   "execution_count": null,
   "metadata": {},
   "outputs": [],
   "source": []
  },
  {
   "cell_type": "code",
   "execution_count": null,
   "metadata": {},
   "outputs": [],
   "source": []
  }
 ],
 "metadata": {
  "kernelspec": {
   "display_name": "Python 3",
   "language": "python",
   "name": "python3"
  },
  "language_info": {
   "codemirror_mode": {
    "name": "ipython",
    "version": 3
   },
   "file_extension": ".py",
   "mimetype": "text/x-python",
   "name": "python",
   "nbconvert_exporter": "python",
   "pygments_lexer": "ipython3",
   "version": "3.7.6"
  }
 },
 "nbformat": 4,
 "nbformat_minor": 4
}
