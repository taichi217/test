{
 "cells": [
  {
   "cell_type": "code",
   "execution_count": 2,
   "metadata": {},
   "outputs": [
    {
     "name": "stdout",
     "output_type": "stream",
     "text": [
      "1.123 0.0 1.123 100.0\n",
      "100.0\n"
     ]
    }
   ],
   "source": [
    "#10_A\n",
    "val=list(map(float,input().split()))\n",
    "if(val[0]>val[2]):\n",
    "    x=(val[0]-val[2])**2\n",
    "else:\n",
    "    x=(val[2]-val[0])**2\n",
    "if(val[1]>val[3]):\n",
    "    y=(val[1]-val[3])**2\n",
    "else:\n",
    "    y=(val[3]-val[1])**2\n",
    "    \n",
    "length=(x+y)**0.5\n",
    "print(length)"
   ]
  },
  {
   "cell_type": "code",
   "execution_count": 14,
   "metadata": {},
   "outputs": [
    {
     "name": "stdout",
     "output_type": "stream",
     "text": [
      "100 80 54\n",
      "3236.0679774997893\n",
      "263.6387228699747\n",
      "64.72135954999578\n",
      "\n"
     ]
    }
   ],
   "source": [
    "#10_B\n",
    "import math\n",
    "a,b,C=map(int,input().split())\n",
    "S=a*b*math.sin((C*2*math.pi)/360)/2\n",
    "c=math.sqrt(a**2+b**2-2*a*b*math.cos((C*2*math.pi)/360))\n",
    "L=a+b+c\n",
    "h=2*float(S)/a\n",
    "print(str(S)+'\\n'+str(L)+'\\n'+str(h)+'\\n')"
   ]
  },
  {
   "cell_type": "code",
   "execution_count": 15,
   "metadata": {},
   "outputs": [
    {
     "name": "stdout",
     "output_type": "stream",
     "text": [
      "5\n",
      "70 80 100 90 20\n",
      "27.85677655436824\n",
      "3\n",
      "80 80 80\n",
      "0.0\n",
      "0\n"
     ]
    }
   ],
   "source": [
    "#10_C\n",
    "while(True):\n",
    "    n=int(input())\n",
    "    if(n==0):\n",
    "        break\n",
    "    val=list(map(int, input().split()))\n",
    "    sum=0\n",
    "    for i in val:\n",
    "        sum+=i\n",
    "    mean=sum/n\n",
    "    disp=0\n",
    "    for i in val:\n",
    "        disp+=(i-mean)**2\n",
    "    disp=disp/n\n",
    "    print(disp**0.5)\n",
    "    \n"
   ]
  },
  {
   "cell_type": "code",
   "execution_count": 28,
   "metadata": {},
   "outputs": [
    {
     "name": "stdout",
     "output_type": "stream",
     "text": [
      "3\n",
      "1 2 3\n",
      "2 0 4\n",
      "4.0\n",
      "2.449489742783178\n",
      "2.154434690031884\n",
      "2\n"
     ]
    }
   ],
   "source": [
    "#10_D\n",
    "import math\n",
    "n=int(input())\n",
    "x_v=list(map(int,input().split()))\n",
    "y_v=list(map(int,input().split()))\n",
    "\n",
    "p=1\n",
    "while(p<5):\n",
    "    d=0\n",
    "    if(p==4):\n",
    "        my_list=[]\n",
    "        for i in range(n):\n",
    "            my_list.append(abs(x_v[i]-y_v[i]))\n",
    "        d=max(my_list)\n",
    "        print(d)\n",
    "    else:\n",
    "        for i in range(n):\n",
    "            d+=abs(x_v[i]-y_v[i])**p\n",
    "        d=pow(d,1/p)\n",
    "        print(d)\n",
    "    p+=1"
   ]
  },
  {
   "cell_type": "code",
   "execution_count": 27,
   "metadata": {},
   "outputs": [
    {
     "name": "stdout",
     "output_type": "stream",
     "text": [
      "2.449489742783178\n"
     ]
    }
   ],
   "source": []
  },
  {
   "cell_type": "code",
   "execution_count": null,
   "metadata": {},
   "outputs": [],
   "source": []
  }
 ],
 "metadata": {
  "kernelspec": {
   "display_name": "Python 3",
   "language": "python",
   "name": "python3"
  },
  "language_info": {
   "codemirror_mode": {
    "name": "ipython",
    "version": 3
   },
   "file_extension": ".py",
   "mimetype": "text/x-python",
   "name": "python",
   "nbconvert_exporter": "python",
   "pygments_lexer": "ipython3",
   "version": "3.7.6"
  }
 },
 "nbformat": 4,
 "nbformat_minor": 4
}
