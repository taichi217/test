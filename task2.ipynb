{
 "cells": [
  {
   "cell_type": "code",
   "execution_count": 1,
   "metadata": {},
   "outputs": [
    {
     "name": "stdout",
     "output_type": "stream",
     "text": [
      "1 2\n",
      "a<b\n"
     ]
    }
   ],
   "source": [
    "# 2_A\n",
    "var=input()\n",
    "var=var.split()\n",
    "a=int(var[0])\n",
    "b=int(var[1])\n",
    "if(-1000<a<1000 and -1000<b<1000):\n",
    "    if(a>b):\n",
    "        print(\"a>b\")\n",
    "    elif(a<b):\n",
    "        print(\"a<b\")\n",
    "    else:\n",
    "        print(\"a==b\")"
   ]
  },
  {
   "cell_type": "code",
   "execution_count": 3,
   "metadata": {},
   "outputs": [
    {
     "name": "stdout",
     "output_type": "stream",
     "text": [
      "1 3 8\n",
      "Yes\n"
     ]
    }
   ],
   "source": [
    "# 2_B\n",
    "var=input()\n",
    "var=var.split()\n",
    "a=int(var[0])\n",
    "b=int(var[1])\n",
    "c=int(var[2])\n",
    "if(a<b<c):\n",
    "    print(\"Yes\")\n",
    "else:\n",
    "    print(\"No\")"
   ]
  },
  {
   "cell_type": "code",
   "execution_count": 2,
   "metadata": {},
   "outputs": [
    {
     "name": "stdout",
     "output_type": "stream",
     "text": [
      "1 3 8\n",
      "1 3 8\n"
     ]
    }
   ],
   "source": [
    "# 2_C\n",
    "var=input()\n",
    "var=var.split()\n",
    "a=int(var[0])\n",
    "b=int(var[1])\n",
    "c=int(var[2])\n",
    "if(1<=a<=10000 and 1<=b<=10000 and 1<=c<=10000):\n",
    "    if(a<b<c):\n",
    "        print(str(a)+\" \"+str(b)+\" \"+str(c))\n",
    "    elif(c<a<b):\n",
    "        print(str(c)+\" \"+str(a)+\" \"+str(b))\n",
    "    elif(b<c<a):\n",
    "        print(str(b)+\" \"+str(c)+\" \"+str(a))\n",
    "    elif(a<c<b):\n",
    "        print(str(a)+\" \"+str(c)+\" \"+str(b))\n",
    "    elif(c<b<a):\n",
    "        print(str(c)+\" \"+str(b)+\" \"+str(a))\n",
    "    elif(b<a<c):\n",
    "        print(str(b)+\" \"+str(a)+\" \"+str(c))\n",
    "    elif(a==b and a>c):\n",
    "        print(str(c)+\" \"+str(a)+\" \"+str(b))\n",
    "    elif(a==b and a<c):\n",
    "        print(str(a)+\" \"+str(b)+\" \"+str(c))\n",
    "    elif(a==c and a>b):\n",
    "        print(str(b)+\" \"+str(a)+\" \"+str(c))\n",
    "    elif(a==c and a<b):\n",
    "        print(str(a)+\" \"+str(c)+\" \"+str(b))\n",
    "    elif(c==b and c>a):\n",
    "        print(str(a)+\" \"+str(b)+\" \"+str(c))\n",
    "    elif(c==b and c<a):\n",
    "        print(str(b)+\" \"+str(c)+\" \"+str(a))"
   ]
  },
  {
   "cell_type": "code",
   "execution_count": 4,
   "metadata": {},
   "outputs": [
    {
     "name": "stdout",
     "output_type": "stream",
     "text": [
      "5 4 2 2 1\n",
      "Yes\n"
     ]
    }
   ],
   "source": [
    "# 2_D\n",
    "var=input()\n",
    "var=var.split()\n",
    "W=int(var[0])\n",
    "H=int(var[1])\n",
    "x=int(var[2])\n",
    "y=int(var[3])\n",
    "r=int(var[4])\n",
    "if(-100<=x<=100 and -100<=y<=100):\n",
    "    if(0<W<=100 and 0<H<=100 and 0<r<=100):\n",
    "        if((x+r)<=W and (x-r)>=0):\n",
    "            if((y+r)<=H and (y-r)>=0):\n",
    "                print(\"Yes\")\n",
    "            else:\n",
    "                print(\"No\")\n",
    "        else:\n",
    "            print(\"No\")"
   ]
  },
  {
   "cell_type": "code",
   "execution_count": null,
   "metadata": {},
   "outputs": [],
   "source": []
  }
 ],
 "metadata": {
  "kernelspec": {
   "display_name": "Python 3",
   "language": "python",
   "name": "python3"
  },
  "language_info": {
   "codemirror_mode": {
    "name": "ipython",
    "version": 3
   },
   "file_extension": ".py",
   "mimetype": "text/x-python",
   "name": "python",
   "nbconvert_exporter": "python",
   "pygments_lexer": "ipython3",
   "version": "3.7.6"
  }
 },
 "nbformat": 4,
 "nbformat_minor": 4
}
