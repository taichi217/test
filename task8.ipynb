{
 "cells": [
  {
   "cell_type": "code",
   "execution_count": 3,
   "metadata": {},
   "outputs": [
    {
     "name": "stdout",
     "output_type": "stream",
     "text": [
      "fAIR, LATER, OCCASIONALLY CLOUDY.\n",
      "Fair, later, occasionally cloudy.\n"
     ]
    }
   ],
   "source": [
    "# 8_A\n",
    "var=input()\n",
    "print(var.swapcase())"
   ]
  },
  {
   "cell_type": "code",
   "execution_count": 4,
   "metadata": {},
   "outputs": [
    {
     "name": "stdout",
     "output_type": "stream",
     "text": [
      "123\n",
      "6\n",
      "55\n",
      "10\n",
      "1000\n",
      "1\n",
      "0\n"
     ]
    }
   ],
   "source": [
    "# 8_B\n",
    "\n",
    "while(True):\n",
    "    s=0\n",
    "    var=input()\n",
    "    if(int(var)==0):\n",
    "        break\n",
    "    else:\n",
    "        for i in range(len(var)):\n",
    "            s+=int(var[i])\n",
    "    print(s)"
   ]
  },
  {
   "cell_type": "code",
   "execution_count": 5,
   "metadata": {},
   "outputs": [
    {
     "name": "stdout",
     "output_type": "stream",
     "text": [
      "This is a pen.\n",
      "a : 1\n",
      "b : 0\n",
      "c : 0\n",
      "d : 0\n",
      "e : 1\n",
      "f : 0\n",
      "g : 0\n",
      "h : 1\n",
      "i : 2\n",
      "j : 0\n",
      "k : 0\n",
      "l : 0\n",
      "m : 0\n",
      "n : 1\n",
      "o : 0\n",
      "p : 1\n",
      "q : 0\n",
      "r : 0\n",
      "s : 2\n",
      "t : 1\n",
      "u : 0\n",
      "v : 0\n",
      "w : 0\n",
      "x : 0\n",
      "y : 0\n",
      "z : 0\n"
     ]
    }
   ],
   "source": [
    "# 8_D\n",
    "alp=[\"a\",\"b\",\"c\",\"d\",\"e\",\"f\",\"g\",\"h\",\"i\",\"j\",\"k\",\"l\",\"m\",\"n\",\"o\",\"p\",\"q\",\"r\",\"s\",\"t\",\"u\",\"v\",\"w\",\"x\",\"y\",\"z\"]\n",
    "my_dic={'a':0,'b':0,'c':0,'d':0,'e':0,'f':0,'g':0,'h':0,'i':0,'j':0,'k':0,'l':0,'m':0,'n':0\n",
    "        ,'o':0,'p':0,'q':0,'r':0,'s':0,'t':0,'u':0,'v':0,'w':0,'x':0,'y':0,'z':0}\n",
    "while(True):\n",
    "    try:\n",
    "        var=input()\n",
    "    except:\n",
    "        break\n",
    "    for i in alp:\n",
    "        s=my_dic[i]\n",
    "        s+=var.lower().count(i)\n",
    "        my_dic[i]=s\n",
    "    \n",
    "for i in alp:\n",
    "    print(i+\" : \"+str(my_dic[i]))"
   ]
  },
  {
   "cell_type": "code",
   "execution_count": 2,
   "metadata": {},
   "outputs": [
    {
     "name": "stdout",
     "output_type": "stream",
     "text": [
      "vanceknowledgetoad\n",
      "advance\n",
      "Yes\n"
     ]
    }
   ],
   "source": [
    "s=input()*2\n",
    "p=input()\n",
    "if(p in s):\n",
    "    print(\"Yes\")\n",
    "else:\n",
    "    print(\"No\")"
   ]
  },
  {
   "cell_type": "code",
   "execution_count": null,
   "metadata": {},
   "outputs": [],
   "source": []
  }
 ],
 "metadata": {
  "kernelspec": {
   "display_name": "Python 3",
   "language": "python",
   "name": "python3"
  },
  "language_info": {
   "codemirror_mode": {
    "name": "ipython",
    "version": 3
   },
   "file_extension": ".py",
   "mimetype": "text/x-python",
   "name": "python",
   "nbconvert_exporter": "python",
   "pygments_lexer": "ipython3",
   "version": "3.7.6"
  }
 },
 "nbformat": 4,
 "nbformat_minor": 4
}
