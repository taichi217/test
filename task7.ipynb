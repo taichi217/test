{
 "cells": [
  {
   "cell_type": "code",
   "execution_count": 70,
   "metadata": {},
   "outputs": [
    {
     "name": "stdout",
     "output_type": "stream",
     "text": [
      "40 42 -1\n",
      "A\n",
      "20 30 -1\n",
      "C\n",
      "0 2 -1\n",
      "F\n",
      "-1 -1 -1\n"
     ]
    }
   ],
   "source": [
    "#7_A\n",
    "while(True):\n",
    "    var=input()\n",
    "    var=var.split()\n",
    "    m=int(var[0])\n",
    "    r=int(var[1])\n",
    "    f=int(var[2])\n",
    "    if(m==r==f==-1):\n",
    "        break\n",
    "    if(m==-1 or r==-1):\n",
    "        print(\"F\")\n",
    "    elif((m+r)>=80):\n",
    "        print(\"A\")\n",
    "    elif(65<=(m+r)<80):\n",
    "        print(\"B\")\n",
    "    elif(50<=(m+r)<80):\n",
    "        print(\"C\")\n",
    "    elif(30<=(m+r)<50 and f<50):\n",
    "        print(\"D\")\n",
    "    elif(30<=(m+r)<50 and f>=50):\n",
    "        print(\"C\")\n",
    "    elif((m+r)<30):\n",
    "        print(\"F\")"
   ]
  },
  {
   "cell_type": "code",
   "execution_count": 13,
   "metadata": {},
   "outputs": [
    {
     "name": "stdout",
     "output_type": "stream",
     "text": [
      "5 9\n",
      "2\n",
      "0 0\n"
     ]
    }
   ],
   "source": [
    "# 7_B\n",
    "\n",
    "while(True):\n",
    "    count=0\n",
    "    var=input()\n",
    "    var=var.split()\n",
    "    n=int(var[0])\n",
    "    x=int(var[1])\n",
    "    if(n==0 and x==0):\n",
    "        break\n",
    "    else:\n",
    "        for i in range(1,n+1):\n",
    "            for k in range(i+1,n+1):\n",
    "                for m in range(k+1,n+1):\n",
    "                    s=0\n",
    "                    s=i+k+m\n",
    "                    if(s==x):\n",
    "                        count+=1\n",
    "        print(count)"
   ]
  },
  {
   "cell_type": "code",
   "execution_count": 8,
   "metadata": {},
   "outputs": [
    {
     "name": "stdout",
     "output_type": "stream",
     "text": [
      "4 5\n",
      "1 1 3 4 5\n",
      "2 2 2 4 5\n",
      "3 3 0 1 1\n",
      "2 3 4 4 6\n",
      "1 1 3 4 5 14\n",
      "2 2 2 4 5 15\n",
      "3 3 0 1 1 8\n",
      "2 3 4 4 6 19\n",
      "8 9 9 13 17 56\n"
     ]
    }
   ],
   "source": [
    "# 7_C\n",
    "r,c=map(int,input().split())\n",
    "table=[[0 for i in range(c+1)]for n in range(r+1)]\n",
    "for i in range(r):\n",
    "    var=list(map(int,input().split()))\n",
    "    for n in range(len(var)+1):\n",
    "        if(n==c):\n",
    "            table[i][n]=sum(var)\n",
    "        else:\n",
    "            table[i][n]=var[n]\n",
    "\n",
    "for i in range(r):\n",
    "    for n in range(c):\n",
    "        table[r][n]+=table[i][n]\n",
    "table[r][c]=sum(table[r])\n",
    "for line in table:\n",
    "    length=len(line)\n",
    "    for col in line:\n",
    "        length-=1\n",
    "        if length ==0 :\n",
    "            print(str(col))\n",
    "        else:\n",
    "            print(str(col)+\" \",end='')\n",
    "        "
   ]
  },
  {
   "cell_type": "code",
   "execution_count": 9,
   "metadata": {},
   "outputs": [
    {
     "name": "stdout",
     "output_type": "stream",
     "text": [
      "3 2 3\n",
      "1 2\n",
      "0 3\n",
      "4 5\n",
      "1 2 1\n",
      "0 3 2\n",
      "1 8 5\n",
      "0 9 6\n",
      "4 23 14\n"
     ]
    }
   ],
   "source": [
    "# 7_D\n",
    "n,m,l=map(int,input().split())\n",
    "A=[[0 for j in range(m)]for k in range(n)]\n",
    "B=[[0 for j in range(l)]for k in range(m)]\n",
    "C=[[0 for j in range(l)]for k in range(n)]\n",
    "for j in range(n):\n",
    "    var=list(map(int,input().split()))\n",
    "    A[j]=var\n",
    "for j in range(m):\n",
    "    var=list(map(int,input().split()))\n",
    "    B[j]=var\n",
    "\n",
    "for j in range(n):\n",
    "    for k in range(l):\n",
    "        for t in range(m):\n",
    "            C[j][k]+=A[j][t]*B[t][k]\n",
    "\n",
    "for line in C:\n",
    "    length=len(line)\n",
    "    for col in line:\n",
    "        length-=1\n",
    "        if length ==0 :\n",
    "            print(str(col))\n",
    "        else:\n",
    "            print(str(col)+\" \",end='')"
   ]
  },
  {
   "cell_type": "code",
   "execution_count": null,
   "metadata": {},
   "outputs": [],
   "source": []
  }
 ],
 "metadata": {
  "kernelspec": {
   "display_name": "Python 3",
   "language": "python",
   "name": "python3"
  },
  "language_info": {
   "codemirror_mode": {
    "name": "ipython",
    "version": 3
   },
   "file_extension": ".py",
   "mimetype": "text/x-python",
   "name": "python",
   "nbconvert_exporter": "python",
   "pygments_lexer": "ipython3",
   "version": "3.7.6"
  }
 },
 "nbformat": 4,
 "nbformat_minor": 4
}
